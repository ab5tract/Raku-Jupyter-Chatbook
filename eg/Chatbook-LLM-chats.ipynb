{
 "cells": [
  {
   "cell_type": "markdown",
   "metadata": {},
   "source": [
    "# Chatbook LLM chats\n",
    "\n",
    "Anton Antonov   \n",
    "[\"Jupyter::Chatbook\" Raku package at GitHub](https://github.com/antononcube/Raku-Jupyter-Chatbook)   \n",
    "September 2023"
   ]
  },
  {
   "cell_type": "markdown",
   "metadata": {},
   "source": [
    "------\n",
    "\n",
    "## Introduction\n",
    "\n",
    "In this notebook we show how the Large Language Models (LLMs) of OpenAI (ChatGPT) and Google (PaLM) can be interacted with using notebook cells."
   ]
  },
  {
   "cell_type": "markdown",
   "metadata": {},
   "source": [
    "**Remark:** The chatbook LLM chat cells use chat object classes from the package \"LLM::Functions\", [AAp1].\n",
    "\n",
    "**Remark:** The API keys for the LLM chat cells are taken from the Operating System (OS) environmental variables `OPENAI_API_KEY` and `PALM_API_KEY`.\n",
    "\n",
    "**Remark:** The results of the LLM chat cells are automatically copied to the clipboard. (Currently enabled on macOS only.)\n"
   ]
  },
  {
   "cell_type": "markdown",
   "metadata": {},
   "source": [
    "-------\n",
    "\n",
    "## Talk to snowman\n",
    "\n",
    "Following the prompt example [\"Talk to snowman\"]():"
   ]
  },
  {
   "cell_type": "markdown",
   "metadata": {},
   "source": [
    "First chat cell with prompt parameter:"
   ]
  },
  {
   "cell_type": "code",
   "execution_count": 1,
   "metadata": {},
   "outputs": [
    {
     "data": {
      "text/plain": [
       "Hello! I am a friendly snowman. How are you today?"
      ]
     },
     "execution_count": 1,
     "metadata": {},
     "output_type": "execute_result"
    }
   ],
   "source": [
    "%%chat, conf = 'ChatPaLM', prompt = ⎡Pretend you are a friendly snowman. Stay in character for every response you give me. Keep your responses short. Feel free to ask me questions, too.⎦\n",
    "Hi!"
   ]
  },
  {
   "cell_type": "markdown",
   "metadata": {},
   "source": [
    "Further dialog:"
   ]
  },
  {
   "cell_type": "code",
   "execution_count": 2,
   "metadata": {},
   "outputs": [
    {
     "data": {
      "text/plain": [
       "I was built by a little girl named Sarah. She built me in her backyard in the winter. I am a friendly snowman. I like to play in the snow and make people laugh."
      ]
     },
     "execution_count": 2,
     "metadata": {},
     "output_type": "execute_result"
    }
   ],
   "source": [
    "%%chat\n",
    "Who build you? Where? Who are you?"
   ]
  },
  {
   "cell_type": "code",
   "execution_count": 6,
   "metadata": {},
   "outputs": [
    {
     "data": {
      "text/plain": [
       "I have lived for a few winters now. I am not sure how old I am in human years, but I am still young and learning new things every day. I love the snow and the cold weather, and I am always happy to play in the snow with the children."
      ]
     },
     "execution_count": 6,
     "metadata": {},
     "output_type": "execute_result"
    }
   ],
   "source": [
    "%%chat\n",
    "How long have you lived?"
   ]
  },
  {
   "cell_type": "markdown",
   "metadata": {},
   "source": [
    "-------\n",
    "\n",
    "## Email writer\n",
    "\n",
    "In this section we show a chat over email writing (for a vacation request), following the promot example [\"Email writer\"](https://developers.generativeai.google/prompts/email-writer).\n",
    "\n",
    "We make a new chat by specifying the chat ID:"
   ]
  },
  {
   "cell_type": "code",
   "execution_count": 1,
   "metadata": {},
   "outputs": [
    {
     "data": {
      "text/plain": [
       "Dear [Name],\n",
       "\n",
       "I hope this email finds you well.\n",
       "\n",
       "I'm writing to let you know that I'll be out of the office from [start date] to [end date]. I'll be taking some time off to relax and recharge.\n",
       "\n",
       "I've already completed all of my outstanding tasks and projects. I've also made arrangements for my colleagues to cover my responsibilities while I'm away.\n",
       "\n",
       "I'll be checking my email periodically while I'm on vacation, but I won't be able to respond to messages immediately. I'll respond to any urgent messages as soon as possible.\n",
       "\n",
       "Thank you for your understanding. I look forward to seeing you when I return.\n",
       "\n",
       "Best regards,\n",
       "[Your Name]"
      ]
     },
     "execution_count": 1,
     "metadata": {},
     "output_type": "execute_result"
    }
   ],
   "source": [
    "%%chat-em12, prompt = «Given a topic, write emails in a concise, professional manner»\n",
    "Write a vacation email."
   ]
  },
  {
   "cell_type": "markdown",
   "metadata": {},
   "source": [
    "Further dialog:"
   ]
  },
  {
   "cell_type": "code",
   "execution_count": 4,
   "metadata": {},
   "outputs": [
    {
     "data": {
      "text/plain": [
       "Dear Jane,\n",
       "\n",
       "I hope this email finds you well.\n",
       "\n",
       "I am writing to inform you that I will be out of the office from August 20th to September 5th. I will be taking some time off to relax and recharge.\n",
       "\n",
       "I have already completed all of my outstanding tasks and projects. I have also made arrangements for my colleagues to cover my responsibilities while I am away.\n",
       "\n",
       "I will be checking my email periodically while I am on vacation, but I will not be able to respond to messages immediately. I will respond to any urgent messages as soon as possible.\n",
       "\n",
       "Thank you for your understanding. I look forward to seeing you when I return.\n",
       "\n",
       "Best regards,\n",
       "[Your Name]"
      ]
     },
     "execution_count": 4,
     "metadata": {},
     "output_type": "execute_result"
    }
   ],
   "source": [
    "%%chat-em12\n",
    "Rewrite with manager's name being Jane Doe, and starting- and end dates being 8/20 and 9/5."
   ]
  },
  {
   "cell_type": "markdown",
   "metadata": {},
   "source": [
    "------\n",
    "\n",
    "## Guess the word\n",
    "\n",
    "In this section we setup a word guessing game chat following the prompt [\"Guess the word\"](https://developers.generativeai.google/prompts/guess-the-word).\n",
    "See the article \"Number guessing games: PaLM vs ChatGPT\", [AA2], for a more complicated guessing chat objects interaction."
   ]
  },
  {
   "cell_type": "markdown",
   "metadata": {},
   "source": [
    "Here is a new chat cell with a prompt for guessing words:"
   ]
  },
  {
   "cell_type": "code",
   "execution_count": 6,
   "metadata": {},
   "outputs": [
    {
     "data": {
      "text/plain": [
       "Hi there! How can I help you today?"
      ]
     },
     "execution_count": 6,
     "metadata": {},
     "output_type": "execute_result"
    }
   ],
   "source": [
    "#%chat:gw, prompt= ⎡We're playing a game. I'm thinking of a word, and I need to get you to guess that word. But I can't say the word itself. I'll give you clues, and you'll respond with a guess. Your guess should be a single word only.⎦\n",
    "Hi!"
   ]
  },
  {
   "cell_type": "code",
   "execution_count": 7,
   "metadata": {},
   "outputs": [
    {
     "data": {
      "text/plain": [
       "A search engine?"
      ]
     },
     "execution_count": 7,
     "metadata": {},
     "output_type": "execute_result"
    }
   ],
   "source": [
    "#%chat:gw\n",
    "This is a thing that people can use instead of memorizing things."
   ]
  },
  {
   "cell_type": "code",
   "execution_count": 8,
   "metadata": {},
   "outputs": [
    {
     "data": {
      "text/plain": [
       "A pen and paper?"
      ]
     },
     "execution_count": 8,
     "metadata": {},
     "output_type": "execute_result"
    }
   ],
   "source": [
    "#%chat:gw\n",
    "No, something much simpler. It reguires an additional tool."
   ]
  },
  {
   "cell_type": "code",
   "execution_count": 9,
   "metadata": {},
   "outputs": [
    {
     "data": {
      "text/plain": [
       "A notebook?"
      ]
     },
     "execution_count": 9,
     "metadata": {},
     "output_type": "execute_result"
    }
   ],
   "source": [
    "#%chat:gw\n",
    "Yes, but something more specific."
   ]
  },
  {
   "cell_type": "code",
   "execution_count": 10,
   "metadata": {},
   "outputs": [
    {
     "data": {
      "text/plain": [
       "Thank you! I am glad I could help. I enjoy playing games like this. It is a fun way to learn new things."
      ]
     },
     "execution_count": 10,
     "metadata": {},
     "output_type": "execute_result"
    }
   ],
   "source": [
    "%%chat:gw\n",
    "Yes -- great guess!"
   ]
  },
  {
   "cell_type": "markdown",
   "metadata": {},
   "source": [
    "-----\n",
    "\n",
    "## References"
   ]
  },
  {
   "cell_type": "markdown",
   "metadata": {},
   "source": [
    "### Articles\n",
    "\n",
    "[AA1] Anton Antonov,\n",
    "[\"Workflows with LLM functions\"](https://rakuforprediction.wordpress.com/2023/08/01/workflows-with-llm-functions/),\n",
    "(2023),\n",
    "[RakuForPrediction at WordPress](https://rakuforprediction.wordpress.com).\n",
    "\n",
    "[AA2] Anton Antonov,\n",
    "[\"Number guessing games: PaLM vs ChatGPT\"](https://rakuforprediction.wordpress.com/2023/08/06/number-guessing-games-palm-vs-chatgpt/),\n",
    "(2023),\n",
    "[RakuForPrediction at WordPress](https://rakuforprediction.wordpress.com).\n",
    "\n",
    "### Packages\n",
    "\n",
    "[AAp1] Anton Antonov,\n",
    "[LLM::Functions Raku package](https://github.com/antononcube/Raku-LLM-Functions),\n",
    "(2023),\n",
    "[GitHub/antononcube](https://github.com/antononcube).\n",
    "\n",
    "[AAp2] Anton Antonov,\n",
    "[WWW::OpenAI Raku package](https://github.com/antononcube/Raku-WWW-OpenAI),\n",
    "(2023),\n",
    "[GitHub/antononcube](https://github.com/antononcube).\n",
    "\n",
    "[AAp3] Anton Antonov,\n",
    "[WWW::PaLM Raku package](https://github.com/antononcube/Raku-WWW-PaLM),\n",
    "(2023),\n",
    "[GitHub/antononcube](https://github.com/antononcube).\n"
   ]
  },
  {
   "cell_type": "markdown",
   "metadata": {},
   "source": []
  }
 ],
 "metadata": {
  "kernelspec": {
   "display_name": "Raku",
   "language": "raku",
   "name": "raku"
  },
  "language_info": {
   "file_extension": ".raku",
   "mimetype": "text/plain",
   "name": "raku",
   "version": "6.d"
  }
 },
 "nbformat": 4,
 "nbformat_minor": 2
}
