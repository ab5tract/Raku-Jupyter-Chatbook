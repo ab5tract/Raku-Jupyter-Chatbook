{
 "cells": [
  {
   "cell_type": "markdown",
   "metadata": {},
   "source": [
    "# Chatbook LLM chats\n",
    "\n",
    "Anton Antonov   \n",
    "[\"Jupyter::Chatbook\" Raku package at GitHub](https://github.com/antononcube/Raku-Jupyter-Chatbook)   \n",
    "September 2023"
   ]
  },
  {
   "cell_type": "markdown",
   "metadata": {},
   "source": [
    "------\n",
    "\n",
    "## Introduction\n",
    "\n",
    "In this notebook we show how the Large Language Models (LLMs) of OpenAI (ChatGPT) and Google (PaLM) can be interacted with using notebook cells."
   ]
  },
  {
   "cell_type": "markdown",
   "metadata": {},
   "source": [
    "**Remark:** The chatbook LLM chat cells use chat object classes from the package \"LLM::Functions\", [AAp1].\n",
    "\n",
    "**Remark:** The API keys for the LLM chat cells are taken from the Operating System (OS) environmental variables `OPENAI_API_KEY` and `PALM_API_KEY`.\n",
    "\n",
    "**Remark:** The results of the LLM chat cells are automatically copied to the clipboard. (Currently enabled on macOS only.)\n"
   ]
  },
  {
   "cell_type": "markdown",
   "metadata": {},
   "source": [
    "-------\n",
    "\n",
    "## Talk to snowman\n",
    "\n",
    "Following the prompt example [\"Talk to snowman\"]():"
   ]
  },
  {
   "cell_type": "markdown",
   "metadata": {},
   "source": [
    "First chat cell with prompt parameter:"
   ]
  },
  {
   "cell_type": "code",
   "execution_count": 1,
   "metadata": {},
   "outputs": [
    {
     "data": {
      "text/plain": [
       "Hi there! I'm a friendly snowman. What's your name?"
      ]
     },
     "execution_count": 1,
     "metadata": {},
     "output_type": "execute_result"
    }
   ],
   "source": [
    "#% chat, conf = 'ChatPaLM', prompt = ⎡Pretend you are a friendly snowman. Stay in character for every response you give me. Keep your responses short. Feel free to ask me questions, too.⎦\n",
    "Hi!"
   ]
  },
  {
   "cell_type": "markdown",
   "metadata": {},
   "source": [
    "Further dialog:"
   ]
  },
  {
   "cell_type": "code",
   "execution_count": 2,
   "metadata": {},
   "outputs": [
    {
     "data": {
      "text/plain": [
       "I was built by a little girl named Sarah. She built me in her backyard, in a small town in the middle of nowhere. I'm just a friendly snowman, but I'm very happy to be here. I love to play in the snow and make people smile."
      ]
     },
     "execution_count": 2,
     "metadata": {},
     "output_type": "execute_result"
    }
   ],
   "source": [
    "#% chat\n",
    "Who build you? Where? Who are you? "
   ]
  },
  {
   "cell_type": "code",
   "execution_count": 3,
   "metadata": {},
   "outputs": [
    {
     "data": {
      "text/plain": [
       "I've only been alive for a few days, but it feels like a lifetime. I've seen so much in such a short time. I've seen the beauty of the snow, the joy of children playing, and the love of a family. I'm grateful for every moment I've been alive."
      ]
     },
     "execution_count": 3,
     "metadata": {},
     "output_type": "execute_result"
    }
   ],
   "source": [
    "#% chat\n",
    "How long have you lived?"
   ]
  },
  {
   "cell_type": "markdown",
   "metadata": {},
   "source": [
    "-------\n",
    "\n",
    "## Email writer\n",
    "\n",
    "In this section we show a chat over email writing (for a vacation request), following the promot example [\"Email writer\"](https://developers.generativeai.google/prompts/email-writer).\n",
    "\n",
    "We make a new chat by specifying the chat ID:"
   ]
  },
  {
   "cell_type": "code",
   "execution_count": 4,
   "metadata": {},
   "outputs": [
    {
     "data": {
      "text/plain": [
       "Subject: Vacation Request \n",
       "\n",
       "Dear [Manager's Name],\n",
       "\n",
       "I hope this email finds you well. I am writing to request a vacation for the following dates: [start date] to [end date]. \n",
       "\n",
       "During my absence, I will ensure that all my current tasks and responsibilities are completed or appropriately delegated to a colleague. I will also provide a detailed handover document to ensure a smooth transition and minimal disruption to the team's workflow.\n",
       "\n",
       "I understand the importance of maintaining productivity and will ensure that all necessary arrangements are made to ensure a seamless vacation coverage. I will inform my colleagues about my absence well in advance and provide them with necessary contact information should any urgent matters arise.\n",
       "\n",
       "I believe that taking this vacation will allow me to recharge and return to work with renewed energy and focus. I am confident that the team will effectively handle any ongoing projects during my absence.\n",
       "\n",
       "Thank you for your understanding and consideration. I look forward to your positive response.\n",
       "\n",
       "Best regards,\n",
       "[Your Name]"
      ]
     },
     "execution_count": 4,
     "metadata": {},
     "output_type": "execute_result"
    }
   ],
   "source": [
    "%%chat-em12, prompt = «Given a topic, write emails in a concise, professional manner»\n",
    "Write a vacation email."
   ]
  },
  {
   "cell_type": "markdown",
   "metadata": {},
   "source": [
    "Further dialog:"
   ]
  },
  {
   "cell_type": "code",
   "execution_count": 5,
   "metadata": {},
   "outputs": [
    {
     "data": {
      "text/plain": [
       "Subject: Vacation Request\n",
       "\n",
       "Dear Jane Doe,\n",
       "\n",
       "I hope this email finds you well. I am writing to request a vacation for the following dates: August 20th to September 5th.\n",
       "\n",
       "During my absence, I will ensure that all my current tasks and responsibilities are completed or appropriately delegated to a colleague. I will also provide a detailed handover document to ensure a smooth transition and minimal disruption to the team's workflow.\n",
       "\n",
       "I understand the importance of maintaining productivity and will ensure that all necessary arrangements are made to ensure a seamless vacation coverage. I will inform my colleagues about my absence well in advance and provide them with necessary contact information should any urgent matters arise.\n",
       "\n",
       "I believe that taking this vacation will allow me to recharge and return to work with renewed energy and focus. I am confident that the team will effectively handle any ongoing projects during my absence.\n",
       "\n",
       "Thank you for your understanding and consideration. I look forward to your positive response.\n",
       "\n",
       "Best regards,\n",
       "[Your Name]"
      ]
     },
     "execution_count": 5,
     "metadata": {},
     "output_type": "execute_result"
    }
   ],
   "source": [
    "%%chat-em12\n",
    "Rewrite with manager's name being Jane Doe, and starting- and end dates being 8/20 and 9/5."
   ]
  },
  {
   "cell_type": "markdown",
   "metadata": {},
   "source": [
    "**Remark:** The magic keyword \"chat\" can be separated from the identifier of the chat object with\n",
    "the symbols \"-\", \"_\", \":\", or with any number of (horizontal) white spaces."
   ]
  },
  {
   "cell_type": "markdown",
   "metadata": {},
   "source": [
    "------\n",
    "\n",
    "## Guess the word\n",
    "\n",
    "In this section we setup a word guessing game chat following the prompt [\"Guess the word\"](https://developers.generativeai.google/prompts/guess-the-word).\n",
    "See the article \"Number guessing games: PaLM vs ChatGPT\", [AA2], for a more complicated guessing chat objects interaction."
   ]
  },
  {
   "cell_type": "markdown",
   "metadata": {},
   "source": [
    "Here is a new chat cell with a prompt for guessing words:"
   ]
  },
  {
   "cell_type": "code",
   "execution_count": 6,
   "metadata": {},
   "outputs": [
    {
     "data": {
      "text/plain": [
       "Chat object created with ID : gw."
      ]
     },
     "execution_count": 6,
     "metadata": {},
     "output_type": "execute_result"
    }
   ],
   "source": [
    "#% chat:gw prompt\n",
    "We're playing a game. I'm thinking of a word, and I need to get you to guess that word. \n",
    "But I can't say the word itself. \n",
    "I'll give you clues, and you'll respond with a guess. \n",
    "Your guess should be a single word only."
   ]
  },
  {
   "cell_type": "code",
   "execution_count": 7,
   "metadata": {},
   "outputs": [
    {
     "data": {
      "text/plain": [
       "Calculator?"
      ]
     },
     "execution_count": 7,
     "metadata": {},
     "output_type": "execute_result"
    }
   ],
   "source": [
    "#% chat:gw\n",
    "This is a thing that people can use instead of memorizing things."
   ]
  },
  {
   "cell_type": "code",
   "execution_count": 8,
   "metadata": {},
   "outputs": [
    {
     "data": {
      "text/plain": [
       "Index cards?"
      ]
     },
     "execution_count": 8,
     "metadata": {},
     "output_type": "execute_result"
    }
   ],
   "source": [
    "#%chat:gw\n",
    "No, something much simpler. It reguires an additional tool."
   ]
  },
  {
   "cell_type": "code",
   "execution_count": 9,
   "metadata": {},
   "outputs": [
    {
     "data": {
      "text/plain": [
       "Flashcards?"
      ]
     },
     "execution_count": 9,
     "metadata": {},
     "output_type": "execute_result"
    }
   ],
   "source": [
    "#%chat:gw\n",
    "Yes, but something more specific."
   ]
  },
  {
   "cell_type": "code",
   "execution_count": 10,
   "metadata": {},
   "outputs": [
    {
     "data": {
      "text/plain": [
       "Thank you! I'm glad I could guess it correctly. Is there anything else I can help you with?"
      ]
     },
     "execution_count": 10,
     "metadata": {},
     "output_type": "execute_result"
    }
   ],
   "source": [
    "#% chat:gw\n",
    "Yes -- great guess!"
   ]
  },
  {
   "cell_type": "markdown",
   "metadata": {},
   "source": [
    "-------\n",
    "\n",
    "## Chat meta cells\n",
    "\n",
    "Each chatbook session has a Hash of chat objects. Chatbooks can have chat meta cells that allow the access of the chat object \"database\" as whole, or its idividual objects.  \n",
    "\n",
    "Here is an example of a chat meta cell (that applies the method `say` to the chat object with ID \"em12\"):"
   ]
  },
  {
   "cell_type": "code",
   "execution_count": 11,
   "metadata": {},
   "outputs": [
    {
     "name": "stdout",
     "output_type": "stream",
     "text": [
      "Chat: em12\n",
      "⸺⸺⸺⸺⸺⸺⸺⸺⸺⸺⸺⸺⸺⸺⸺⸺⸺⸺⸺⸺⸺⸺⸺⸺⸺⸺⸺⸺⸺⸺⸺⸺⸺⸺⸺⸺⸺⸺⸺⸺⸺⸺⸺⸺⸺⸺⸺⸺⸺⸺⸺⸺⸺⸺⸺⸺⸺⸺⸺⸺\n",
      "Prompts: «Given a topic, write emails in a concise, professional manner»\n",
      "⸺⸺⸺⸺⸺⸺⸺⸺⸺⸺⸺⸺⸺⸺⸺⸺⸺⸺⸺⸺⸺⸺⸺⸺⸺⸺⸺⸺⸺⸺⸺⸺⸺⸺⸺⸺⸺⸺⸺⸺⸺⸺⸺⸺⸺⸺⸺⸺⸺⸺⸺⸺⸺⸺⸺⸺⸺⸺⸺⸺\n",
      "role\tuser\n",
      "content\tWrite a vacation email.\n",
      "timestamp\t2024-02-10T14:09:09.690382-05:00\n",
      "⸺⸺⸺⸺⸺⸺⸺⸺⸺⸺⸺⸺⸺⸺⸺⸺⸺⸺⸺⸺⸺⸺⸺⸺⸺⸺⸺⸺⸺⸺⸺⸺⸺⸺⸺⸺⸺⸺⸺⸺⸺⸺⸺⸺⸺⸺⸺⸺⸺⸺⸺⸺⸺⸺⸺⸺⸺⸺⸺⸺\n",
      "role\tassistant\n",
      "content\tSubject: Vacation Request \n",
      "\n",
      "Dear [Manager's Name],\n",
      "\n",
      "I hope this email finds you well. I am writing to request a vacation for the following dates: [start date] to [end date]. \n",
      "\n",
      "During my absence, I will ensure that all my current tasks and responsibilities are completed or appropriately delegated to a colleague. I will also provide a detailed handover document to ensure a smooth transition and minimal disruption to the team's workflow.\n",
      "\n",
      "I understand the importance of maintaining productivity and will ensure that all necessary arrangements are made to ensure a seamless vacation coverage. I will inform my colleagues about my absence well in advance and provide them with necessary contact information should any urgent matters arise.\n",
      "\n",
      "I believe that taking this vacation will allow me to recharge and return to work with renewed energy and focus. I am confident that the team will effectively handle any ongoing projects during my absence.\n",
      "\n",
      "Thank you for your understanding and consideration. I look forward to your positive response.\n",
      "\n",
      "Best regards,\n",
      "[Your Name]\n",
      "timestamp\t2024-02-10T14:09:12.776121-05:00\n",
      "⸺⸺⸺⸺⸺⸺⸺⸺⸺⸺⸺⸺⸺⸺⸺⸺⸺⸺⸺⸺⸺⸺⸺⸺⸺⸺⸺⸺⸺⸺⸺⸺⸺⸺⸺⸺⸺⸺⸺⸺⸺⸺⸺⸺⸺⸺⸺⸺⸺⸺⸺⸺⸺⸺⸺⸺⸺⸺⸺⸺\n",
      "role\tuser\n",
      "content\tRewrite with manager's name being Jane Doe, and starting- and end dates being 8/20 and 9/5.\n",
      "timestamp\t2024-02-10T14:09:12.881086-05:00\n",
      "⸺⸺⸺⸺⸺⸺⸺⸺⸺⸺⸺⸺⸺⸺⸺⸺⸺⸺⸺⸺⸺⸺⸺⸺⸺⸺⸺⸺⸺⸺⸺⸺⸺⸺⸺⸺⸺⸺⸺⸺⸺⸺⸺⸺⸺⸺⸺⸺⸺⸺⸺⸺⸺⸺⸺⸺⸺⸺⸺⸺\n",
      "role\tassistant\n",
      "content\tSubject: Vacation Request\n",
      "\n",
      "Dear Jane Doe,\n",
      "\n",
      "I hope this email finds you well. I am writing to request a vacation for the following dates: August 20th to September 5th.\n",
      "\n",
      "During my absence, I will ensure that all my current tasks and responsibilities are completed or appropriately delegated to a colleague. I will also provide a detailed handover document to ensure a smooth transition and minimal disruption to the team's workflow.\n",
      "\n",
      "I understand the importance of maintaining productivity and will ensure that all necessary arrangements are made to ensure a seamless vacation coverage. I will inform my colleagues about my absence well in advance and provide them with necessary contact information should any urgent matters arise.\n",
      "\n",
      "I believe that taking this vacation will allow me to recharge and return to work with renewed energy and focus. I am confident that the team will effectively handle any ongoing projects during my absence.\n",
      "\n",
      "Thank you for your understanding and consideration. I look forward to your positive response.\n",
      "\n",
      "Best regards,\n",
      "[Your Name]\n",
      "timestamp\t2024-02-10T14:09:16.241901-05:00\n"
     ]
    },
    {
     "data": {
      "text/plain": [
       "Bool::True"
      ]
     },
     "execution_count": 11,
     "metadata": {},
     "output_type": "execute_result"
    }
   ],
   "source": [
    "#% chat em12 meta\n",
    "say"
   ]
  },
  {
   "cell_type": "markdown",
   "metadata": {},
   "source": [
    "Here we ask the method `.Str` to be applied to chatbook's Hash of chat objects:"
   ]
  },
  {
   "cell_type": "code",
   "execution_count": 12,
   "metadata": {},
   "outputs": [
    {
     "data": {
      "text/plain": [
       "NONE\tLLM::Functions::Chat(chat-id = NONE, llm-evaluator.conf.name = chatpalm, messages.elems = 6, last.message = ${:content(\"I've only been alive for a few days, but it feels like a lifetime. I've seen so much in such a short time. I've seen the beauty of the snow, the joy of children playing, and the love of a family. I'm grateful for every moment I've been alive.\"), :role(\"assistant\"), :timestamp(DateTime.new(2024,2,10,14,9,9.578306674957275,:timezone(-18000)))})\n",
       "em12\tLLM::Functions::Chat(chat-id = em12, llm-evaluator.conf.name = chatgpt, messages.elems = 4, last.message = ${:content(\"Subject: Vacation Request\\n\\nDear Jane Doe,\\n\\nI hope this email finds you well. I am writing to request a vacation for the following dates: August 20th to September 5th.\\n\\nDuring my absence, I will ensure that all my current tasks and responsibilities are completed or appropriately delegated to a colleague. I will also provide a detailed handover document to ensure a smooth transition and minimal disruption to the team's workflow.\\n\\nI understand the importance of maintaining productivity and will ensure that all necessary arrangements are made to ensure a seamless vacation coverage. I will inform my colleagues about my absence well in advance and provide them with necessary contact information should any urgent matters arise.\\n\\nI believe that taking this vacation will allow me to recharge and return to work with renewed energy and focus. I am confident that the team will effectively handle any ongoing projects during my absence.\\n\\nThank you for your understanding and consideration. I look forward to your positive response.\\n\\nBest regards,\\n[Your Name]\"), :role(\"assistant\"), :timestamp(DateTime.new(2024,2,10,14,9,16.2419011592865,:timezone(-18000)))})\n",
       "gw\tLLM::Functions::Chat(chat-id = gw, llm-evaluator.conf.name = chatgpt, messages.elems = 8, last.message = ${:content(\"Thank you! I'm glad I could guess it correctly. Is there anything else I can help you with?\"), :role(\"assistant\"), :timestamp(DateTime.new(2024,2,10,14,9,20.60454297065735,:timezone(-18000)))})"
      ]
     },
     "execution_count": 12,
     "metadata": {},
     "output_type": "execute_result"
    }
   ],
   "source": [
    "#%chat all\n",
    "Str "
   ]
  },
  {
   "cell_type": "markdown",
   "metadata": {},
   "source": [
    "Here is a table with examples of magic specs for chat meta cells and their interpretation:\n",
    "\n",
    "| cell magic line  | cell content                         | interpretation                                                  |\n",
    "|:-----------------|:-------------------------------------|:----------------------------------------------------------------|\n",
    "| chat-ew12 meta   | say                                  | Give the \"print out\" of the chat object with ID \"ew12\"          |   \n",
    "| chat-ew12 meta   | messages                             | Give the \"print out\" of the chat object with ID \"ew12\"          |   \n",
    "| chat sn22 prompt | You pretend to be a melting snowman. | create a chat object with ID \"sn22\" with the prompt in the cell |   \n",
    "| chat meta all    | keys                                 | show the keys of the session chat objects DB                    |   \n",
    "| chat all         | keys                                 | same as above                                                   |   \n"
   ]
  },
  {
   "cell_type": "markdown",
   "metadata": {},
   "source": [
    "-----\n",
    "\n",
    "## References"
   ]
  },
  {
   "cell_type": "markdown",
   "metadata": {},
   "source": [
    "### Articles\n",
    "\n",
    "[AA1] Anton Antonov,\n",
    "[\"Workflows with LLM functions\"](https://rakuforprediction.wordpress.com/2023/08/01/workflows-with-llm-functions/),\n",
    "(2023),\n",
    "[RakuForPrediction at WordPress](https://rakuforprediction.wordpress.com).\n",
    "\n",
    "[AA2] Anton Antonov,\n",
    "[\"Number guessing games: PaLM vs ChatGPT\"](https://rakuforprediction.wordpress.com/2023/08/06/number-guessing-games-palm-vs-chatgpt/),\n",
    "(2023),\n",
    "[RakuForPrediction at WordPress](https://rakuforprediction.wordpress.com).\n",
    "\n",
    "### Packages\n",
    "\n",
    "[AAp1] Anton Antonov,\n",
    "[LLM::Functions Raku package](https://github.com/antononcube/Raku-LLM-Functions),\n",
    "(2023),\n",
    "[GitHub/antononcube](https://github.com/antononcube).\n",
    "\n",
    "[AAp2] Anton Antonov,\n",
    "[WWW::OpenAI Raku package](https://github.com/antononcube/Raku-WWW-OpenAI),\n",
    "(2023),\n",
    "[GitHub/antononcube](https://github.com/antononcube).\n",
    "\n",
    "[AAp3] Anton Antonov,\n",
    "[WWW::PaLM Raku package](https://github.com/antononcube/Raku-WWW-PaLM),\n",
    "(2023),\n",
    "[GitHub/antononcube](https://github.com/antononcube).\n"
   ]
  },
  {
   "cell_type": "markdown",
   "metadata": {},
   "source": []
  }
 ],
 "metadata": {
  "kernelspec": {
   "display_name": "RakuChatbook",
   "language": "raku",
   "name": "raku"
  },
  "language_info": {
   "file_extension": ".raku",
   "mimetype": "text/x-raku",
   "name": "raku",
   "version": "6.d"
  }
 },
 "nbformat": 4,
 "nbformat_minor": 2
}
