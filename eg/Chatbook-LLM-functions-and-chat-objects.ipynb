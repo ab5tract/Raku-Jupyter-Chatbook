{
 "cells": [
  {
   "cell_type": "markdown",
   "metadata": {},
   "source": [
    "# LLM functions and chat objects\n",
    "\n",
    "Anton Antonov   \n",
    "[\"Jupyter::Chatbook\" Raku package at GitHub](https://github.com/antononcube/Raku-Jupyter-Chatbook)   \n",
    "August, September 2023"
   ]
  },
  {
   "cell_type": "markdown",
   "metadata": {},
   "source": [
    "------\n",
    "\n",
    "## Introduction\n",
    "\n",
    "In this notebook we show how Large Language Models (LLMs) functions and LLM chat objects can be created and used in a notebook."
   ]
  },
  {
   "cell_type": "markdown",
   "metadata": {},
   "source": [
    "**Remark:** For LLM functions and chat objects the functionalities of [\"Jupyter::Kernel\"](https://github.com/bduggan/raku-jupyter-kernel), [BDp1], suffice. In other words, the \"chatbook\" extensions of provided by \"Jupyter::Chatbook\", [AAp1], is not needed.\n",
    "\n",
    "**Remark:** The LLM functions and chat objects are provided by the package [\"LLM::Functions\"](https://raku.land/zef:antononcube/LLM::Functions), [AA1, AAp2], which in turn uses the packages [\"WWW::OpenAI\"](https://raku.land/zef:antononcube/WWW::OpenAI), [AAp3], and [\"WWW::PaLM\"](https://raku.land/zef:antononcube/WWW::PaLM), [AAp4].\n",
    "\n",
    "**Remark:** The API keys for the LLM functions and chat objects are taken from the Operating System (OS) environmental variables `OPENAI_API_KEY` and `PALM_API_KEY`.\n"
   ]
  },
  {
   "cell_type": "markdown",
   "metadata": {},
   "source": [
    "------ \n",
    "\n",
    "## LLM functions\n",
    "\n",
    "The \"standard\" way to utilize LLMs is with the package \"LLM::Functions\", [AA1, AAp1]. I.e. without using the specific, dedicated packages \"WWW::OpenAI\", [AAp2], and \"WWW::PaLM\", [AAp3].\n",
    "\n",
    "Here is an example:"
   ]
  },
  {
   "cell_type": "code",
   "execution_count": 11,
   "metadata": {},
   "outputs": [
    {
     "data": {
      "text/html": [
       "\n",
       "\n",
       "<table>\n",
       "  <tr>\n",
       "    <td>row1, column1</td>\n",
       "    <td>row1, column2</td>\n",
       "    <td>row1, column3</td>\n",
       "  </tr>\n",
       "  <tr>\n",
       "    <td>row2, column1</td>\n",
       "    <td>row2, column2</td>\n",
       "    <td>row2, column3</td>\n",
       "  </tr>\n",
       "  <tr>\n",
       "    <td>row3, column1</td>\n",
       "    <td>row3, column2</td>\n",
       "    <td>row3, column3</td>\n",
       "  </tr>\n",
       "  <tr>\n",
       "    <td>row4, column1</td>\n",
       "    <td>row4, column2</td>\n",
       "    <td>row4, column3</td>\n",
       "  </tr>\n",
       "</table>"
      ]
     },
     "execution_count": 11,
     "metadata": {},
     "output_type": "execute_result"
    }
   ],
   "source": [
    "%% html\n",
    "use LLM::Functions;\n",
    "\n",
    "my &ftbl = llm-function({\"The HTML code of a random table with $^a rows and $^b columns is : \"}, e => 'OpenAI');\n",
    "\n",
    "&ftbl(4,3)"
   ]
  },
  {
   "cell_type": "markdown",
   "metadata": {},
   "source": [
    "**Remark:** Since the LLM function produces (or suppossed to produce) HTML code we use the magic spec `%% html`."
   ]
  },
  {
   "cell_type": "markdown",
   "metadata": {},
   "source": [
    "-------\n",
    "\n",
    "## LLM chat objects"
   ]
  },
  {
   "cell_type": "markdown",
   "metadata": {},
   "source": [
    "Make a chat object:"
   ]
  },
  {
   "cell_type": "code",
   "execution_count": 8,
   "metadata": {},
   "outputs": [
    {
     "data": {
      "text/plain": [
       "LLM::Functions::Chat(chat-id = , llm-evaluator.conf.name = chatpalm, messages.elems = 0)"
      ]
     },
     "execution_count": 8,
     "metadata": {},
     "output_type": "execute_result"
    }
   ],
   "source": [
    "my $chatObj = llm-chat(\n",
    "    conf=>'ChatPaLM', \n",
    "    prompt => 'You are Raku coding instructor. You are the best Raku programmer and you know Raku documentation very well. You answers are concise, mostly with code');"
   ]
  },
  {
   "cell_type": "markdown",
   "metadata": {},
   "source": [
    "Here we give the chat object a message, and specify the output to be in Markdown format using the magic spec `%% markdown`:"
   ]
  },
  {
   "cell_type": "code",
   "execution_count": 9,
   "metadata": {},
   "outputs": [
    {
     "data": {
      "text/markdown": [
       "To get the characters of a string in Raku, you can use the `chars` method. The `chars` method returns an array of all the characters in the string. For example, if you have a string called `\"Hello\"`, you can use the following code to get the characters in the string:\n",
       "\n",
       "```\n",
       "my @characters = \"Hello\".chars;\n",
       "say @characters;\n",
       "```\n",
       "\n",
       "This will print the following output:\n",
       "\n",
       "```\n",
       "[H, e, l, l, o]\n",
       "```\n",
       "\n",
       "You can also use the `chars` method to get the characters in a substring. For example, if you have a string called `\"Hello World\"` and you want to get the characters in the substring `\"World\"`, you can use the following code:\n",
       "\n",
       "```\n",
       "my @characters = \"Hello World\".chars(\"World\");\n",
       "say @characters;\n",
       "```\n",
       "\n",
       "This will print the following output:\n",
       "\n",
       "```\n",
       "[W, o, r, l, d]\n",
       "```\n",
       "\n",
       "You can also use the `chars` method to get the characters in a range of characters in a string. For example, if you have a string called `\"Hello World\"` and you want to get the characters from the 3rd character to the 6th character, you can use the following code:\n",
       "\n",
       "```\n",
       "my @characters = \"Hello World\".chars(3..6);\n",
       "say @characters;\n",
       "```\n",
       "\n",
       "This will print the following output:\n",
       "\n",
       "```\n",
       "[e, l, l]\n",
       "```\n",
       "\n",
       "I hope this helps!"
      ]
     },
     "execution_count": 9,
     "metadata": {},
     "output_type": "execute_result"
    }
   ],
   "source": [
    "%% markdown\n",
    "$chatObj.eval('How do you get the characters of a string?')"
   ]
  },
  {
   "cell_type": "code",
   "execution_count": 10,
   "metadata": {},
   "outputs": [
    {
     "data": {
      "text/markdown": [
       "To make the original word from the characters in the previous example, you can use the `join` method. The `join` method takes an array of characters and returns a string with the characters joined together. For example, if you have an array of characters called `@characters` with the following contents:\n",
       "\n",
       "```\n",
       "@characters = ['H', 'e', 'l', 'l', 'o']\n",
       "```\n",
       "\n",
       "You can use the following code to join the characters together and create the original word:\n",
       "\n",
       "```\n",
       "my $word = join '', @characters;\n",
       "say $word;\n",
       "```\n",
       "\n",
       "This will print the following output:\n",
       "\n",
       "```\n",
       "Hello\n",
       "```\n",
       "\n",
       "You can also use the `join` method to join the characters together with a specific separator. For example, if you want to join the characters together with a space, you can use the following code:\n",
       "\n",
       "```\n",
       "my $word = join ' ', @characters;\n",
       "say $word;\n",
       "```\n",
       "\n",
       "This will print the following output:\n",
       "\n",
       "```\n",
       "H e l l o\n",
       "```\n",
       "\n",
       "I hope this helps!"
      ]
     },
     "execution_count": 10,
     "metadata": {},
     "output_type": "execute_result"
    }
   ],
   "source": [
    "%% markdown\n",
    "$chatObj.eval('How do you make the original word from the characters in the previous example')"
   ]
  },
  {
   "cell_type": "markdown",
   "metadata": {},
   "source": [
    "-----\n",
    "\n",
    "## References"
   ]
  },
  {
   "cell_type": "markdown",
   "metadata": {},
   "source": [
    "### Articles\n",
    "\n",
    "[AA1] Anton Antonov,\n",
    "[\"Workflows with LLM functions\"](https://rakuforprediction.wordpress.com/2023/08/01/workflows-with-llm-functions/),\n",
    "(2023),\n",
    "[RakuForPrediction at WordPress](https://rakuforprediction.wordpress.com).\n",
    "\n",
    "[AA2] Anton Antonov,\n",
    "[\"Number guessing games: PaLM vs ChatGPT\"](https://rakuforprediction.wordpress.com/2023/08/06/number-guessing-games-palm-vs-chatgpt/),\n",
    "(2023),\n",
    "[RakuForPrediction at WordPress](https://rakuforprediction.wordpress.com).\n",
    "\n",
    "### Packages\n",
    "\n",
    "[AAp1] Anton Antonov,\n",
    "[Jupyter::Chatbook Raku package](https://github.com/antononcube/Raku-Jupyter-Chatbook),\n",
    "(2023),\n",
    "[GitHub/antononcube](https://github.com/antononcube).\n",
    "\n",
    "[AAp2] Anton Antonov,\n",
    "[LLM::Functions Raku package](https://github.com/antononcube/Raku-LLM-Functions),\n",
    "(2023),\n",
    "[GitHub/antononcube](https://github.com/antononcube).\n",
    "\n",
    "[AAp3] Anton Antonov,\n",
    "[WWW::OpenAI Raku package](https://github.com/antononcube/Raku-WWW-OpenAI),\n",
    "(2023),\n",
    "[GitHub/antononcube](https://github.com/antononcube).\n",
    "\n",
    "[AAp4] Anton Antonov,\n",
    "[WWW::PaLM Raku package](https://github.com/antononcube/Raku-WWW-PaLM),\n",
    "(2023),\n",
    "[GitHub/antononcube](https://github.com/antononcube).\n",
    "\n",
    "[BDp1] Brian Duggan,\n",
    "[Jupyter:Kernel Raku package](https://github.com/bduggan/raku-jupyter-kernel),\n",
    "(2017-2023),\n",
    "[GitHub/bduggan](https://github.com/bduggan)."
   ]
  },
  {
   "cell_type": "markdown",
   "metadata": {},
   "source": []
  }
 ],
 "metadata": {
  "kernelspec": {
   "display_name": "Raku",
   "language": "raku",
   "name": "raku"
  },
  "language_info": {
   "file_extension": ".raku",
   "mimetype": "text/plain",
   "name": "raku",
   "version": "6.d"
  }
 },
 "nbformat": 4,
 "nbformat_minor": 2
}
